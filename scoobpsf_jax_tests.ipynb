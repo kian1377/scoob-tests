{
 "cells": [
  {
   "cell_type": "code",
   "execution_count": 9,
   "id": "3374162e",
   "metadata": {},
   "outputs": [
    {
     "data": {
      "text/html": [
       "<style>.container { width:90% !important; }</style>"
      ],
      "text/plain": [
       "<IPython.core.display.HTML object>"
      ]
     },
     "metadata": {},
     "output_type": "display_data"
    }
   ],
   "source": [
    "import numpy as np\n",
    "import matplotlib.pyplot as plt\n",
    "from matplotlib.patches import Circle\n",
    "import astropy.units as u\n",
    "from astropy.io import fits\n",
    "from pathlib import Path\n",
    "from IPython.display import clear_output, display, HTML\n",
    "display(HTML(\"<style>.container { width:90% !important; }</style>\"))\n",
    "from importlib import reload\n",
    "\n",
    "import poppy\n",
    "\n",
    "import logging, sys\n",
    "poppy_log = logging.getLogger('poppy')\n",
    "poppy_log.setLevel('DEBUG')\n",
    "logging.basicConfig(stream=sys.stdout, level=logging.INFO)\n",
    "poppy_log.disabled = True\n",
    "\n",
    "import ray\n",
    "\n",
    "import scoobpsf\n",
    "from scoobpsf.math_module import xp, _scipy\n",
    "from scoobpsf.imshows import *\n",
    "import scoobpsf.compact_scoob as cscoob\n",
    "\n",
    "import lina\n",
    "\n",
    "pupil_diam = 6.75*u.mm \n",
    "lyot_ratio = 0.9\n",
    "lyot_diam = 3.6*u.mm\n",
    "\n",
    "# The flattest wavefront obtained for the system in the lab by\n",
    "# performing phase diversity\n",
    "\n",
    "wavelength_c = 632.8e-9*u.m # central wavelength"
   ]
  },
  {
   "cell_type": "code",
   "execution_count": 30,
   "id": "74c8bc1d",
   "metadata": {},
   "outputs": [
    {
     "data": {
      "text/plain": [
       "array([[0.+0.j, 0.+0.j, 0.+0.j, ..., 0.+0.j, 0.+0.j, 0.+0.j],\n",
       "       [0.+0.j, 0.+0.j, 0.+0.j, ..., 0.+0.j, 0.+0.j, 0.+0.j],\n",
       "       [0.+0.j, 0.+0.j, 0.+0.j, ..., 0.+0.j, 0.+0.j, 0.+0.j],\n",
       "       ...,\n",
       "       [0.+0.j, 0.+0.j, 0.+0.j, ..., 0.+0.j, 0.+0.j, 0.+0.j],\n",
       "       [0.+0.j, 0.+0.j, 0.+0.j, ..., 0.+0.j, 0.+0.j, 0.+0.j],\n",
       "       [0.+0.j, 0.+0.j, 0.+0.j, ..., 0.+0.j, 0.+0.j, 0.+0.j]])"
      ]
     },
     "execution_count": 30,
     "metadata": {},
     "output_type": "execute_result"
    }
   ],
   "source": [
    "import numpy as np\n",
    "arr = xp.ones((2048,2048))\n",
    "\n",
    "np.fft.ifftshift(np.fft.fft2(np.fft.fftshift(arr)))"
   ]
  },
  {
   "cell_type": "code",
   "execution_count": 31,
   "id": "7a4038fb",
   "metadata": {},
   "outputs": [
    {
     "name": "stdout",
     "output_type": "stream",
     "text": [
      "393 ms ± 555 µs per loop (mean ± std. dev. of 7 runs, 1 loop each)\n"
     ]
    }
   ],
   "source": [
    "%%timeit\n",
    "ft = np.fft.ifftshift(np.fft.fft2(np.fft.fftshift(arr)))"
   ]
  },
  {
   "cell_type": "code",
   "execution_count": 35,
   "id": "5bde9d24",
   "metadata": {},
   "outputs": [
    {
     "data": {
      "text/plain": [
       "array([[0.+0.j, 0.+0.j, 0.+0.j, ..., 0.+0.j, 0.+0.j, 0.+0.j],\n",
       "       [0.+0.j, 0.+0.j, 0.+0.j, ..., 0.+0.j, 0.+0.j, 0.+0.j],\n",
       "       [0.+0.j, 0.+0.j, 0.+0.j, ..., 0.+0.j, 0.+0.j, 0.+0.j],\n",
       "       ...,\n",
       "       [0.+0.j, 0.+0.j, 0.+0.j, ..., 0.+0.j, 0.+0.j, 0.+0.j],\n",
       "       [0.+0.j, 0.+0.j, 0.+0.j, ..., 0.+0.j, 0.+0.j, 0.+0.j],\n",
       "       [0.+0.j, 0.+0.j, 0.+0.j, ..., 0.+0.j, 0.+0.j, 0.+0.j]])"
      ]
     },
     "execution_count": 35,
     "metadata": {},
     "output_type": "execute_result"
    }
   ],
   "source": [
    "import cupy as cp\n",
    "arr = cp.ones((2048,2048))\n",
    "\n",
    "cp.fft.ifftshift(cp.fft.fft2(cp.fft.fftshift(arr)))"
   ]
  },
  {
   "cell_type": "code",
   "execution_count": 36,
   "id": "53fefc47",
   "metadata": {},
   "outputs": [
    {
     "name": "stdout",
     "output_type": "stream",
     "text": [
      "465 µs ± 68 ns per loop (mean ± std. dev. of 7 runs, 1,000 loops each)\n"
     ]
    }
   ],
   "source": [
    "%%timeit\n",
    "ft = cp.fft.ifftshift(cp.fft.fft2(cp.fft.fftshift(arr)))"
   ]
  },
  {
   "cell_type": "code",
   "execution_count": 2,
   "id": "8d255b11",
   "metadata": {
    "scrolled": false
   },
   "outputs": [],
   "source": [
    "import jax\n",
    "import jax.numpy as xp\n",
    "jax.config.update(\"jax_enable_x64\", True)"
   ]
  },
  {
   "cell_type": "code",
   "execution_count": 32,
   "id": "8519f3e2",
   "metadata": {},
   "outputs": [
    {
     "data": {
      "text/plain": [
       "jaxlib.xla_extension.Array"
      ]
     },
     "execution_count": 32,
     "metadata": {},
     "output_type": "execute_result"
    }
   ],
   "source": [
    "dtype = xp.float64\n",
    "arr = xp.ones((2048,2048), dtype=dtype)\n",
    "type(arr)"
   ]
  },
  {
   "cell_type": "code",
   "execution_count": 34,
   "id": "3d248b01",
   "metadata": {},
   "outputs": [
    {
     "name": "stdout",
     "output_type": "stream",
     "text": [
      "1.21 ms ± 6.53 µs per loop (mean ± std. dev. of 7 runs, 1,000 loops each)\n"
     ]
    }
   ],
   "source": [
    "%%timeit\n",
    "ft = xp.fft.ifftshift(xp.fft.fft2(xp.fft.fftshift(arr)))"
   ]
  },
  {
   "cell_type": "code",
   "execution_count": 3,
   "id": "2a14ed0f",
   "metadata": {
    "scrolled": true
   },
   "outputs": [
    {
     "data": {
      "text/plain": [
       "'NVIDIA A100 80GB PCIe'"
      ]
     },
     "execution_count": 3,
     "metadata": {},
     "output_type": "execute_result"
    }
   ],
   "source": [
    "jax.devices()[0].platform\n",
    "jax.devices()[0].device_kind"
   ]
  },
  {
   "cell_type": "code",
   "execution_count": 37,
   "id": "9bf64f03",
   "metadata": {},
   "outputs": [
    {
     "data": {
      "text/plain": [
       "['__init__',\n",
       " '__doc__',\n",
       " '__module__',\n",
       " 'id',\n",
       " 'process_index',\n",
       " 'host_id',\n",
       " 'task_id',\n",
       " 'platform',\n",
       " 'device_kind',\n",
       " 'client',\n",
       " '__str__',\n",
       " '__repr__',\n",
       " 'transfer_to_infeed',\n",
       " 'transfer_from_outfeed',\n",
       " 'live_buffers',\n",
       " '__getattr__',\n",
       " '__new__',\n",
       " '__hash__',\n",
       " '__getattribute__',\n",
       " '__setattr__',\n",
       " '__delattr__',\n",
       " '__lt__',\n",
       " '__le__',\n",
       " '__eq__',\n",
       " '__ne__',\n",
       " '__gt__',\n",
       " '__ge__',\n",
       " '__reduce_ex__',\n",
       " '__reduce__',\n",
       " '__getstate__',\n",
       " '__subclasshook__',\n",
       " '__init_subclass__',\n",
       " '__format__',\n",
       " '__sizeof__',\n",
       " '__dir__',\n",
       " '__class__']"
      ]
     },
     "execution_count": 37,
     "metadata": {},
     "output_type": "execute_result"
    }
   ],
   "source": [
    "jax.devices()[0].__dir__()"
   ]
  },
  {
   "cell_type": "code",
   "execution_count": 17,
   "id": "633f7aec",
   "metadata": {},
   "outputs": [
    {
     "name": "stdout",
     "output_type": "stream",
     "text": [
      "gpu\n"
     ]
    }
   ],
   "source": [
    "from jax.lib import xla_bridge\n",
    "print(xla_bridge.get_backend().platform)"
   ]
  }
 ],
 "metadata": {
  "kernelspec": {
   "display_name": "Python 3 (ipykernel)",
   "language": "python",
   "name": "python3"
  },
  "language_info": {
   "codemirror_mode": {
    "name": "ipython",
    "version": 3
   },
   "file_extension": ".py",
   "mimetype": "text/x-python",
   "name": "python",
   "nbconvert_exporter": "python",
   "pygments_lexer": "ipython3",
   "version": "3.11.3"
  }
 },
 "nbformat": 4,
 "nbformat_minor": 5
}
